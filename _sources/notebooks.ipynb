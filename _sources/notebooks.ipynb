{
 "cells": [
  {
   "cell_type": "markdown",
   "metadata": {},
   "source": [
    "# Usos\n",
    "\n",
    "\n",
    "## Javascript con Node.js\n",
    "\n",
    "Permite un desarrollo rápido, minimiza los gastos generales (se utiliza tanto para el front end como para el back end) y se concibe como una tecnología minimalista, ya que cuenta con pequeñas librerías. Grandes empresas que utilizan Node.js: Netflix, Candy Crush, Facebook.\n",
    "\n",
    "## Python y Ruby\n",
    "\n",
    "Ambas sirven para crear aplicaciones rápidas. Ruby on Rails, el framework por excelencia de Ruby, funciona para desarrollar aplicaciones RAD y es uno de los más utilizados por las startups. Es productivo y estable, tiene muchas bibliotecas y una comunidad muy importante en la parte de testing. Algunos ejemplos de sistemas realizados con esta tecnología: Twitter, AirBnB, Github, Basecamp y Shopify.\n",
    "\n",
    "## PHP\n",
    "\n",
    "Como hemos comentado en otro artículo, sus frameworks más importantes son Laravel y Symfony. PHP es un lenguaje que nació para la web y ha crecido mucho desde las últimas versiones. Útil para desarrollar un producto mínimo viable (PMV) de una startup, tiene una comunidad grande y muchos frameworks y librerías valiosas para trabajar. Se ha usado para crear WordPress, Yahoo y Wikipedia, entre otros sistemas conocidos.\n",
    "\n",
    "## JAVA\n",
    "\n",
    "Valorados en el mundo enterprise. Java tiene el framework Spring que es el más usado. Altamente escalable, se caracteriza por ser multihilo (servidor web multiproceso) y poseer bibliotecas de código abierto y máxima seguridad. Es multiplataforma: se ejecuta en Windows, Linux y Mac.\n",
    "\n",

     "## ESTE ES UN TEMA MUY APARTE DE TECNOLOGIA \n",

    "![](https://myst-parser.readthedocs.io/en/latest/_static/logo-wide.svg)\n",
    "\n",
    "You can also $add_{math}$ and\n",
    "\n",
    "$$\n",
    "math^{blocks}\n",
    "$$\n",
    "\n",
    "or\n",
    "\n",
    "$$\n",
    "\\begin{aligned}\n",
    "\\mbox{mean} la_{tex} \\\\ \\\\\n",
    "math blocks\n",
    "\\end{aligned}\n",
    "$$\n",
    "\n",
    "But make sure you \\$Escape \\$your \\$dollar signs \\$you want to keep!\n",
    "\n",
    "## MyST markdown\n",
    "\n",
    "MyST markdown works in Jupyter Notebooks as well. For more information about MyST markdown, check\n",
    "out [the MyST guide in Jupyter Book](https://jupyterbook.org/content/myst.html),\n",
    "or see [the MyST markdown documentation](https://myst-parser.readthedocs.io/en/latest/).\n",
    "\n",
    "## Code blocks and outputs\n",
    "\n",
    "Jupyter Book will also embed your code blocks and output in your book.\n",
    "For example, here's some sample Matplotlib code:"
   ]
  },
  {
   "cell_type": "code",
   "execution_count": null,
   "metadata": {},
   "outputs": [],
   "source": [
    "from matplotlib import rcParams, cycler\n",
    "import matplotlib.pyplot as plt\n",
    "import numpy as np\n",
    "plt.ion()"
   ]
  },
  {
   "cell_type": "code",
   "execution_count": null,
   "metadata": {},
   "outputs": [],
   "source": [
    "# Fixing random state for reproducibility\n",
    "np.random.seed(19680801)\n",
    "\n",
    "N = 10\n",
    "data = [np.logspace(0, 1, 100) + np.random.randn(100) + ii for ii in range(N)]\n",
    "data = np.array(data).T\n",
    "cmap = plt.cm.coolwarm\n",
    "rcParams['axes.prop_cycle'] = cycler(color=cmap(np.linspace(0, 1, N)))\n",
    "\n",
    "\n",
    "from matplotlib.lines import Line2D\n",
    "custom_lines = [Line2D([0], [0], color=cmap(0.), lw=4),\n",
    "                Line2D([0], [0], color=cmap(.5), lw=4),\n",
    "                Line2D([0], [0], color=cmap(1.), lw=4)]\n",
    "\n",
    "fig, ax = plt.subplots(figsize=(10, 5))\n",
    "lines = ax.plot(data)\n",
    "ax.legend(custom_lines, ['Cold', 'Medium', 'Hot']);"
   ]
  },
  {
   "cell_type": "markdown",
   "metadata": {},
   "source": [
    "There is a lot more that you can do with outputs (such as including interactive outputs)\n",
    "with your book. For more information about this, see [the Jupyter Book documentation](https://jupyterbook.org)"
   ]
  }
 ],
 "metadata": {
  "kernelspec": {
   "display_name": "Python 3",
   "language": "python",
   "name": "python3"
  },
  "language_info": {
   "codemirror_mode": {
    "name": "ipython",
    "version": 3
   },
   "file_extension": ".py",
   "mimetype": "text/x-python",
   "name": "python",
   "nbconvert_exporter": "python",
   "pygments_lexer": "ipython3",
   "version": "3.8.0"
  },
  "widgets": {
   "application/vnd.jupyter.widget-state+json": {
    "state": {},
    "version_major": 2,
    "version_minor": 0
   }
  }
 },
 "nbformat": 4,
 "nbformat_minor": 4
}


