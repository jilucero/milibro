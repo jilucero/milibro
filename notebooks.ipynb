{
 "cells": [
  {
   "cell_type": "markdown",
   "metadata": {},
   "source": [
    "# Usos\n",
    "\n",
    "\n",
    "## Javascript con Node.js\n",
    "\n",
    "Permite un desarrollo rápido, minimiza los gastos generales (se utiliza tanto para el front end como para el back end) y se concibe como una tecnología minimalista, ya que cuenta con pequeñas librerías. Grandes empresas que utilizan Node.js: Netflix, Candy Crush, Facebook.\n",
    "\n",
    "## Python y Ruby\n",
    "\n",
    "Ambas sirven para crear aplicaciones rápidas. Ruby on Rails, el framework por excelencia de Ruby, funciona para desarrollar aplicaciones RAD y es uno de los más utilizados por las startups. Es productivo y estable, tiene muchas bibliotecas y una comunidad muy importante en la parte de testing. Algunos ejemplos de sistemas realizados con esta tecnología: Twitter, AirBnB, Github, Basecamp y Shopify.\n",
    "\n",
    "## PHP\n",
    "\n",
    "Como hemos comentado en otro artículo, sus frameworks más importantes son Laravel y Symfony. PHP es un lenguaje que nació para la web y ha crecido mucho desde las últimas versiones. Útil para desarrollar un producto mínimo viable (PMV) de una startup, tiene una comunidad grande y muchos frameworks y librerías valiosas para trabajar. Se ha usado para crear WordPress, Yahoo y Wikipedia, entre otros sistemas conocidos.\n",
    "\n",
    "## JAVA\n",
    "\n",
    "Valorados en el mundo enterprise. Java tiene el framework Spring que es el más usado. Altamente escalable, se caracteriza por ser multihilo (servidor web multiproceso) y poseer bibliotecas de código abierto y máxima seguridad. Es multiplataforma: se ejecuta en Windows, Linux y Mac.\n",
    "\n",


